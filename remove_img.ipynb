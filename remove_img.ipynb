{
 "cells": [
  {
   "cell_type": "code",
   "execution_count": 5,
   "metadata": {},
   "outputs": [],
   "source": [
    "from rembg import remove\n",
    "import cv2\n",
    "\n",
    "input_path = r\"C:\\Users\\TMP214\\Desktop\\realWorldTrash\\cup.jpg\"\n",
    "output_path= r\"C:\\Users\\TMP214\\Desktop\\realWorldTrash\\newcup.jpg\"\n",
    "\n",
    "input = cv2.imread(input_path)\n",
    "input = cv2.resize(input, (224,224))\n",
    "output = remove(input)\n",
    "\n",
    "cv2.imwrite(output_path, output)\n",
    "cv2.imshow(\"output\", output)\n",
    "cv2.waitKey(0)\n",
    "cv2.destroyAllWindows()"
   ]
  }
 ],
 "metadata": {
  "kernelspec": {
   "display_name": "test",
   "language": "python",
   "name": "python3"
  },
  "language_info": {
   "codemirror_mode": {
    "name": "ipython",
    "version": 3
   },
   "file_extension": ".py",
   "mimetype": "text/x-python",
   "name": "python",
   "nbconvert_exporter": "python",
   "pygments_lexer": "ipython3",
   "version": "3.10.11"
  }
 },
 "nbformat": 4,
 "nbformat_minor": 2
}
