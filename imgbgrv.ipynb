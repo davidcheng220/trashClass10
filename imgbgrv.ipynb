{
 "cells": [
  {
   "cell_type": "markdown",
   "metadata": {},
   "source": [
    "## 去背"
   ]
  },
  {
   "cell_type": "code",
   "execution_count": 1,
   "metadata": {},
   "outputs": [
    {
     "name": "stdout",
     "output_type": "stream",
     "text": [
      "1/1 [==============================] - 2s 2s/step\n",
      "預測的類別是：plastic\n"
     ]
    }
   ],
   "source": [
    "from keras.models import load_model\n",
    "import cv2\n",
    "import numpy as np\n",
    "from rembg import remove\n",
    "\n",
    "# 1. 載入模型\n",
    "# model = load_model(r'fruit\\fruits-0.90.h5') best\n",
    "model = load_model('model_fixed.h5')\n",
    "# 2. 預處理圖片\n",
    "def preprocess_image(image_path, target_size=(224, 224)):\n",
    "    img = cv2.imread(image_path)\n",
    "    # 去背景 + 背景為白色\n",
    "    img = remove(img, bgcolor=(255, 255, 255, 255), bgthreshold=8)\n",
    "    if img is None:\n",
    "        raise ValueError(\"圖片無法載入，請確認路徑是否正確。\")\n",
    "    img_resized = cv2.resize(img, target_size)\n",
    "    img_rescaled = img_resized.astype('float32') / 255.0\n",
    "    img_preprocessed = np.expand_dims(img_rescaled, axis=0)\n",
    "    # 切片 4改成3\n",
    "    img_preprocessed = img_preprocessed[:, :, :, :3]\n",
    "\n",
    "    return img_preprocessed\n",
    "\n",
    "# 3. 預測\n",
    "image_path = r\"C:\\Users\\TMP214\\Desktop\\realWorldTrash\\coke.jpg\"  # 替換為您的圖片路徑\n",
    "preprocessed_image = preprocess_image(image_path)\n",
    "# cv2.imshow('rmbg',img)\n",
    "# 顯示去背景\n",
    "predictions = model.predict(preprocessed_image)\n",
    "# 4. 解析預測結果\n",
    "class_labels = ['battery', 'biological', 'cardboard', 'clothes', 'glass', 'metal', 'paper', 'plastic', 'shoes', 'trash']\n",
    "predicted_class = class_labels[np.argmax(predictions)]\n",
    "\n",
    "print(f\"預測的類別是：{predicted_class}\")\n"
   ]
  },
  {
   "cell_type": "code",
   "execution_count": 13,
   "metadata": {},
   "outputs": [
    {
     "name": "stdout",
     "output_type": "stream",
     "text": [
      "Model: \"sequential\"\n",
      "_________________________________________________________________\n",
      " Layer (type)                Output Shape              Param #   \n",
      "=================================================================\n",
      " mobilenetv2_1.00_224 (Funct  (None, 7, 7, 1280)       2257984   \n",
      " ional)                                                          \n",
      "                                                                 \n",
      " global_average_pooling2d (G  (None, 1280)             0         \n",
      " lobalAveragePooling2D)                                          \n",
      "                                                                 \n",
      " dense (Dense)               (None, 128)               163968    \n",
      "                                                                 \n",
      " batch_normalization (BatchN  (None, 128)              512       \n",
      " ormalization)                                                   \n",
      "                                                                 \n",
      " dropout (Dropout)           (None, 128)               0         \n",
      "                                                                 \n",
      " dense_1 (Dense)             (None, 10)                1290      \n",
      "                                                                 \n",
      "=================================================================\n",
      "Total params: 2,423,754\n",
      "Trainable params: 2,389,386\n",
      "Non-trainable params: 34,368\n",
      "_________________________________________________________________\n"
     ]
    }
   ],
   "source": [
    "model.summary()"
   ]
  },
  {
   "cell_type": "code",
   "execution_count": null,
   "metadata": {},
   "outputs": [],
   "source": []
  }
 ],
 "metadata": {
  "kernelspec": {
   "display_name": "test",
   "language": "python",
   "name": "python3"
  },
  "language_info": {
   "codemirror_mode": {
    "name": "ipython",
    "version": 3
   },
   "file_extension": ".py",
   "mimetype": "text/x-python",
   "name": "python",
   "nbconvert_exporter": "python",
   "pygments_lexer": "ipython3",
   "version": "3.10.11"
  }
 },
 "nbformat": 4,
 "nbformat_minor": 2
}
